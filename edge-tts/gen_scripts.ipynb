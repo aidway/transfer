{
 "cells": [
  {
   "cell_type": "code",
   "execution_count": 60,
   "id": "aa9251a7-e6a9-49a7-847d-6c08dd7c60fd",
   "metadata": {
    "execution": {
     "iopub.execute_input": "2024-02-14T02:54:46.070423Z",
     "iopub.status.busy": "2024-02-14T02:54:46.069674Z",
     "iopub.status.idle": "2024-02-14T02:54:46.082904Z",
     "shell.execute_reply": "2024-02-14T02:54:46.082136Z",
     "shell.execute_reply.started": "2024-02-14T02:54:46.070386Z"
    },
    "scrolled": true,
    "tags": []
   },
   "outputs": [
    {
     "name": "stdout",
     "output_type": "stream",
     "text": [
      "./texts/haishangrichu.txt\r\n",
      "./texts/congcong.txt\r\n",
      "./texts/haishangrichu.txt\r\n",
      "./texts/congcong.txt\r\n"
     ]
    }
   ],
   "source": [
    "import numpy as np\r\n",
    "import os\r\n",
    "\r\n",
    "base_path = '/home/aistudio/edge-tts'\r\n",
    "speaker2path = {'zh-CN-YunyangNeural':'yunyang', 'zh-CN-XiaoxiaoNeural':'xiaoxiao'}\r\n",
    "\r\n",
    "def get_mp3(speaker):\r\n",
    "    sen_list = []\r\n",
    "    files = os.listdir('./texts')\r\n",
    "    for file in files:\r\n",
    "        if file not in ['.ipynb_checkpoints']:\r\n",
    "            file_name = file.split('.')[0]\r\n",
    "            file_path = os.path.join('./texts', file)\r\n",
    "            print(file_path)\r\n",
    "            with open(file_path, \"r\", encoding='utf-8') as f:  #打开文本\r\n",
    "                data = f.read()   #读取文本\r\n",
    "                data = data.replace('\\n', '').strip()\r\n",
    "                # print(data)\r\n",
    "            sentence = data.split(\"。\")[:-1]\r\n",
    "            \r\n",
    "            for i, sen in enumerate(sentence):\r\n",
    "                # print(sen, i)\r\n",
    "                if i < 10:\r\n",
    "                    step = \"0\" + str(i)\r\n",
    "                else:\r\n",
    "                    step = str(i)\r\n",
    "                sen_list.append(\"edge-tts --voice \" + speaker + \" --text '\" \r\n",
    "                + sen \r\n",
    "                +  \"。' --write-media \" \r\n",
    "                + base_path + \"/mp3/\" + speaker2path[speaker] \r\n",
    "                + \"/\" + file_name + \"_\" + step + \"_\" + speaker2path[speaker] +  \".mp3\")\r\n",
    "                # break\r\n",
    "    return sen_list\r\n",
    "\r\n",
    "def list2file(ls):\r\n",
    "    with open('./scripts/batch_tts.sh', 'w') as f:\r\n",
    "        for item in ls:\r\n",
    "            f.write(str(item) + '\\n') \r\n",
    "\r\n",
    "# zh-CN-XiaoxiaoNeural\r\n",
    "yunyang = get_mp3('zh-CN-YunyangNeural')\r\n",
    "xiaoxiao = get_mp3('zh-CN-XiaoxiaoNeural')\r\n",
    "\r\n",
    "all_mp3 = yunyang  + xiaoxiao\r\n",
    "list2file(all_mp3)\r\n",
    "\r\n",
    "\r\n",
    "        # break\r\n",
    "\r\n",
    "\r\n"
   ]
  },
  {
   "cell_type": "code",
   "execution_count": 56,
   "id": "6c4ce2d5-4df0-431e-b11e-185a7f2a271e",
   "metadata": {
    "execution": {
     "iopub.execute_input": "2024-02-14T02:15:04.017295Z",
     "iopub.status.busy": "2024-02-14T02:15:04.016621Z",
     "iopub.status.idle": "2024-02-14T02:15:04.025188Z",
     "shell.execute_reply": "2024-02-14T02:15:04.023837Z",
     "shell.execute_reply.started": "2024-02-14T02:15:04.017262Z"
    },
    "scrolled": true,
    "tags": []
   },
   "outputs": [
    {
     "data": {
      "text/plain": [
       "[\"edge-tts --voice zh-CN-YunyangNeural --text '为了看日出，我常常早起。' --write-media /home/aistudio/edge-tts/mp3/yunyang/haishangrichu_00.mp3\",\n",
       " \"edge-tts --voice zh-CN-YunyangNeural --text '那时天还没有大亮，周围非常冷清，船上只有机器的响声。' --write-media /home/aistudio/edge-tts/mp3/yunyang/haishangrichu_01.mp3\",\n",
       " \"edge-tts --voice zh-CN-YunyangNeural --text '天空还是一片浅蓝，颜色很浅。' --write-media /home/aistudio/edge-tts/mp3/yunyang/haishangrichu_02.mp3\",\n",
       " \"edge-tts --voice zh-CN-YunyangNeural --text '转眼间天边出现了一道红霞，慢慢地在扩大它的范围，加强它的亮光。' --write-media /home/aistudio/edge-tts/mp3/yunyang/haishangrichu_03.mp3\",\n",
       " \"edge-tts --voice zh-CN-YunyangNeural --text '我知道太阳要从天边升起来了，便目不转睛地望着那里。' --write-media /home/aistudio/edge-tts/mp3/yunyang/haishangrichu_04.mp3\",\n",
       " \"edge-tts --voice zh-CN-YunyangNeural --text '果然过了一会儿，在那个地方出现了太阳的小半边脸，红是真红，却没有亮光。' --write-media /home/aistudio/edge-tts/mp3/yunyang/haishangrichu_05.mp3\",\n",
       " \"edge-tts --voice zh-CN-YunyangNeural --text '这个太阳好像负着重荷似的一步一步，慢慢地努力上升，到了最后，终于冲破了云霞，完全跳出了海面，颜色红的非常可爱。' --write-media /home/aistudio/edge-tts/mp3/yunyang/haishangrichu_06.mp3\",\n",
       " \"edge-tts --voice zh-CN-YunyangNeural --text '一霎那间，这个深红的圆东西，忽然间发出了夺目的亮光，射得人眼睛发痛，它旁边的云片也忽然有了光彩。' --write-media /home/aistudio/edge-tts/mp3/yunyang/haishangrichu_07.mp3\",\n",
       " \"edge-tts --voice zh-CN-YunyangNeural --text '有时太阳走进了云堆中，它的光线却从云里射下来，直射到水面上。' --write-media /home/aistudio/edge-tts/mp3/yunyang/haishangrichu_08.mp3\",\n",
       " \"edge-tts --voice zh-CN-YunyangNeural --text '这时候要分辨出哪里是水，哪里是天，倒也不容易，因为我就只看见一片灿烂的亮光。' --write-media /home/aistudio/edge-tts/mp3/yunyang/haishangrichu_09.mp3\",\n",
       " \"edge-tts --voice zh-CN-YunyangNeural --text '有时天边有黑云，而且云片很厚，太阳出来，人眼还看不见。' --write-media /home/aistudio/edge-tts/mp3/yunyang/haishangrichu_10.mp3\",\n",
       " \"edge-tts --voice zh-CN-YunyangNeural --text '然而太阳在黑云里放射的光芒，透过黑云的重围，替黑云镶了一道发光的金边。' --write-media /home/aistudio/edge-tts/mp3/yunyang/haishangrichu_11.mp3\",\n",
       " \"edge-tts --voice zh-CN-YunyangNeural --text '后来太阳才慢慢地冲出重围，出现在天空，甚至把黑云也染成了紫色或者红色。' --write-media /home/aistudio/edge-tts/mp3/yunyang/haishangrichu_12.mp3\",\n",
       " \"edge-tts --voice zh-CN-YunyangNeural --text '这时候发亮的不仅是太阳、云和海水，连我自己也成了明亮的了。' --write-media /home/aistudio/edge-tts/mp3/yunyang/haishangrichu_13.mp3\",\n",
       " \"edge-tts --voice zh-CN-YunyangNeural --text '燕子去了，有再来的时候；杨柳枯了，有再青的时候；桃花谢了，有再开的时候。' --write-media /home/aistudio/edge-tts/mp3/yunyang/congcong_00.mp3\",\n",
       " \"edge-tts --voice zh-CN-YunyangNeural --text '但是，聪明的，你告诉我，我们的日子为什么一去不复返呢？——是有人偷了他们罢：那是谁？又藏在何处呢？是他们自己逃走了罢：现在又到了哪里呢？我不知道他们给了我多少日子；但我的手确乎是渐渐空虚了。' --write-media /home/aistudio/edge-tts/mp3/yunyang/congcong_01.mp3\",\n",
       " \"edge-tts --voice zh-CN-YunyangNeural --text '在默默里算着，八千多日子已经从我手中溜去；像针尖上一滴水滴在大海里，我的日子滴在时间的流里，没有声音，也没有影子。' --write-media /home/aistudio/edge-tts/mp3/yunyang/congcong_02.mp3\",\n",
       " \"edge-tts --voice zh-CN-YunyangNeural --text '我不禁头涔涔而泪潸潸了。' --write-media /home/aistudio/edge-tts/mp3/yunyang/congcong_03.mp3\",\n",
       " \"edge-tts --voice zh-CN-YunyangNeural --text '去的尽管去了，来的尽管来着；去来的中间，又怎样地匆匆呢？早上我起来的时候，小屋里射进两三方斜斜的太阳。' --write-media /home/aistudio/edge-tts/mp3/yunyang/congcong_04.mp3\",\n",
       " \"edge-tts --voice zh-CN-YunyangNeural --text '太阳他有脚啊，轻轻悄悄地挪移了；我也茫茫然跟着旋转。' --write-media /home/aistudio/edge-tts/mp3/yunyang/congcong_05.mp3\",\n",
       " \"edge-tts --voice zh-CN-YunyangNeural --text '于是——洗手的时候，日子从水盆里过去；吃饭的时候，日子从饭碗里过去；默默时，便从凝然的双眼前过去。' --write-media /home/aistudio/edge-tts/mp3/yunyang/congcong_06.mp3\",\n",
       " \"edge-tts --voice zh-CN-YunyangNeural --text '我觉察他去的匆匆了，伸出手遮挽时，他又从遮挽着的手边过去，天黑时，我躺在床上，他便伶伶俐俐地从我身上跨过，从我脚边飞去了。' --write-media /home/aistudio/edge-tts/mp3/yunyang/congcong_07.mp3\",\n",
       " \"edge-tts --voice zh-CN-YunyangNeural --text '等我睁开眼和太阳再见，这算又溜走了一日。' --write-media /home/aistudio/edge-tts/mp3/yunyang/congcong_08.mp3\",\n",
       " \"edge-tts --voice zh-CN-YunyangNeural --text '我掩着面叹息。' --write-media /home/aistudio/edge-tts/mp3/yunyang/congcong_09.mp3\",\n",
       " \"edge-tts --voice zh-CN-YunyangNeural --text '但是新来的日子的影儿又开始在叹息里闪过了。' --write-media /home/aistudio/edge-tts/mp3/yunyang/congcong_10.mp3\",\n",
       " \"edge-tts --voice zh-CN-YunyangNeural --text '为了看日出，我常常早起。' --write-media /home/aistudio/edge-tts/mp3/xiaoxiao/haishangrichu_00.mp3\",\n",
       " \"edge-tts --voice zh-CN-YunyangNeural --text '那时天还没有大亮，周围非常冷清，船上只有机器的响声。' --write-media /home/aistudio/edge-tts/mp3/xiaoxiao/haishangrichu_01.mp3\",\n",
       " \"edge-tts --voice zh-CN-YunyangNeural --text '天空还是一片浅蓝，颜色很浅。' --write-media /home/aistudio/edge-tts/mp3/xiaoxiao/haishangrichu_02.mp3\",\n",
       " \"edge-tts --voice zh-CN-YunyangNeural --text '转眼间天边出现了一道红霞，慢慢地在扩大它的范围，加强它的亮光。' --write-media /home/aistudio/edge-tts/mp3/xiaoxiao/haishangrichu_03.mp3\",\n",
       " \"edge-tts --voice zh-CN-YunyangNeural --text '我知道太阳要从天边升起来了，便目不转睛地望着那里。' --write-media /home/aistudio/edge-tts/mp3/xiaoxiao/haishangrichu_04.mp3\",\n",
       " \"edge-tts --voice zh-CN-YunyangNeural --text '果然过了一会儿，在那个地方出现了太阳的小半边脸，红是真红，却没有亮光。' --write-media /home/aistudio/edge-tts/mp3/xiaoxiao/haishangrichu_05.mp3\",\n",
       " \"edge-tts --voice zh-CN-YunyangNeural --text '这个太阳好像负着重荷似的一步一步，慢慢地努力上升，到了最后，终于冲破了云霞，完全跳出了海面，颜色红的非常可爱。' --write-media /home/aistudio/edge-tts/mp3/xiaoxiao/haishangrichu_06.mp3\",\n",
       " \"edge-tts --voice zh-CN-YunyangNeural --text '一霎那间，这个深红的圆东西，忽然间发出了夺目的亮光，射得人眼睛发痛，它旁边的云片也忽然有了光彩。' --write-media /home/aistudio/edge-tts/mp3/xiaoxiao/haishangrichu_07.mp3\",\n",
       " \"edge-tts --voice zh-CN-YunyangNeural --text '有时太阳走进了云堆中，它的光线却从云里射下来，直射到水面上。' --write-media /home/aistudio/edge-tts/mp3/xiaoxiao/haishangrichu_08.mp3\",\n",
       " \"edge-tts --voice zh-CN-YunyangNeural --text '这时候要分辨出哪里是水，哪里是天，倒也不容易，因为我就只看见一片灿烂的亮光。' --write-media /home/aistudio/edge-tts/mp3/xiaoxiao/haishangrichu_09.mp3\",\n",
       " \"edge-tts --voice zh-CN-YunyangNeural --text '有时天边有黑云，而且云片很厚，太阳出来，人眼还看不见。' --write-media /home/aistudio/edge-tts/mp3/xiaoxiao/haishangrichu_10.mp3\",\n",
       " \"edge-tts --voice zh-CN-YunyangNeural --text '然而太阳在黑云里放射的光芒，透过黑云的重围，替黑云镶了一道发光的金边。' --write-media /home/aistudio/edge-tts/mp3/xiaoxiao/haishangrichu_11.mp3\",\n",
       " \"edge-tts --voice zh-CN-YunyangNeural --text '后来太阳才慢慢地冲出重围，出现在天空，甚至把黑云也染成了紫色或者红色。' --write-media /home/aistudio/edge-tts/mp3/xiaoxiao/haishangrichu_12.mp3\",\n",
       " \"edge-tts --voice zh-CN-YunyangNeural --text '这时候发亮的不仅是太阳、云和海水，连我自己也成了明亮的了。' --write-media /home/aistudio/edge-tts/mp3/xiaoxiao/haishangrichu_13.mp3\",\n",
       " \"edge-tts --voice zh-CN-YunyangNeural --text '燕子去了，有再来的时候；杨柳枯了，有再青的时候；桃花谢了，有再开的时候。' --write-media /home/aistudio/edge-tts/mp3/xiaoxiao/congcong_00.mp3\",\n",
       " \"edge-tts --voice zh-CN-YunyangNeural --text '但是，聪明的，你告诉我，我们的日子为什么一去不复返呢？——是有人偷了他们罢：那是谁？又藏在何处呢？是他们自己逃走了罢：现在又到了哪里呢？我不知道他们给了我多少日子；但我的手确乎是渐渐空虚了。' --write-media /home/aistudio/edge-tts/mp3/xiaoxiao/congcong_01.mp3\",\n",
       " \"edge-tts --voice zh-CN-YunyangNeural --text '在默默里算着，八千多日子已经从我手中溜去；像针尖上一滴水滴在大海里，我的日子滴在时间的流里，没有声音，也没有影子。' --write-media /home/aistudio/edge-tts/mp3/xiaoxiao/congcong_02.mp3\",\n",
       " \"edge-tts --voice zh-CN-YunyangNeural --text '我不禁头涔涔而泪潸潸了。' --write-media /home/aistudio/edge-tts/mp3/xiaoxiao/congcong_03.mp3\",\n",
       " \"edge-tts --voice zh-CN-YunyangNeural --text '去的尽管去了，来的尽管来着；去来的中间，又怎样地匆匆呢？早上我起来的时候，小屋里射进两三方斜斜的太阳。' --write-media /home/aistudio/edge-tts/mp3/xiaoxiao/congcong_04.mp3\",\n",
       " \"edge-tts --voice zh-CN-YunyangNeural --text '太阳他有脚啊，轻轻悄悄地挪移了；我也茫茫然跟着旋转。' --write-media /home/aistudio/edge-tts/mp3/xiaoxiao/congcong_05.mp3\",\n",
       " \"edge-tts --voice zh-CN-YunyangNeural --text '于是——洗手的时候，日子从水盆里过去；吃饭的时候，日子从饭碗里过去；默默时，便从凝然的双眼前过去。' --write-media /home/aistudio/edge-tts/mp3/xiaoxiao/congcong_06.mp3\",\n",
       " \"edge-tts --voice zh-CN-YunyangNeural --text '我觉察他去的匆匆了，伸出手遮挽时，他又从遮挽着的手边过去，天黑时，我躺在床上，他便伶伶俐俐地从我身上跨过，从我脚边飞去了。' --write-media /home/aistudio/edge-tts/mp3/xiaoxiao/congcong_07.mp3\",\n",
       " \"edge-tts --voice zh-CN-YunyangNeural --text '等我睁开眼和太阳再见，这算又溜走了一日。' --write-media /home/aistudio/edge-tts/mp3/xiaoxiao/congcong_08.mp3\",\n",
       " \"edge-tts --voice zh-CN-YunyangNeural --text '我掩着面叹息。' --write-media /home/aistudio/edge-tts/mp3/xiaoxiao/congcong_09.mp3\",\n",
       " \"edge-tts --voice zh-CN-YunyangNeural --text '但是新来的日子的影儿又开始在叹息里闪过了。' --write-media /home/aistudio/edge-tts/mp3/xiaoxiao/congcong_10.mp3\"]"
      ]
     },
     "execution_count": 56,
     "metadata": {},
     "output_type": "execute_result"
    }
   ],
   "source": [
    "all_mp3"
   ]
  },
  {
   "cell_type": "code",
   "execution_count": null,
   "id": "e014a4be-a379-4d5e-bd75-9193a1a12e41",
   "metadata": {
    "scrolled": true
   },
   "outputs": [],
   "source": []
  },
  {
   "cell_type": "code",
   "execution_count": null,
   "id": "ba1d731d-0f81-4045-9448-e0f151142792",
   "metadata": {
    "scrolled": true
   },
   "outputs": [],
   "source": []
  },
  {
   "cell_type": "code",
   "execution_count": null,
   "id": "337f304d-22c6-4b6a-b149-d413140b07ed",
   "metadata": {
    "scrolled": true
   },
   "outputs": [],
   "source": []
  }
 ],
 "metadata": {
  "kernelspec": {
   "display_name": "Python 3",
   "language": "python",
   "name": "py35-paddle1.2.0"
  },
  "language_info": {
   "codemirror_mode": {
    "name": "ipython",
    "version": 3
   },
   "file_extension": ".py",
   "mimetype": "text/x-python",
   "name": "python",
   "nbconvert_exporter": "python",
   "pygments_lexer": "ipython3",
   "version": "3.7.4"
  }
 },
 "nbformat": 4,
 "nbformat_minor": 5
}
